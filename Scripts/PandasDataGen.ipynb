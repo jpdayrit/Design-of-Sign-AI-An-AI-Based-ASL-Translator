{
  "nbformat": 4,
  "nbformat_minor": 0,
  "metadata": {
    "colab": {
      "name": "PandasDataGen",
      "provenance": [],
      "collapsed_sections": []
    },
    "kernelspec": {
      "name": "python3",
      "display_name": "Python 3"
    },
    "accelerator": "GPU"
  },
  "cells": [
    {
      "cell_type": "code",
      "metadata": {
        "id": "AVn1AggK_W-v",
        "colab_type": "code",
        "colab": {}
      },
      "source": [
        "import pandas as pd\n",
        "from google.colab import files\n",
        "import matplotlib.pyplot as plt\n",
        "import random \n",
        "\n",
        "plot_num = 100\n",
        "samples = 10\n",
        "\n",
        "i = 0\n",
        "j = 0\n",
        "\n",
        "sensor_dat = pd.DataFrame(columns = ['Y'])\n"
      ],
      "execution_count": 0,
      "outputs": []
    },
    {
      "cell_type": "code",
      "metadata": {
        "id": "08MJFJtG_wnn",
        "colab_type": "code",
        "colab": {}
      },
      "source": [
        "# generates type 1 data. \n",
        "\n",
        "while i < plot_num:\n",
        "  while j < samples:\n",
        "    new_dat = pd.DataFrame({float(random.randrange(250, 500))/10}, columns = ['Y'])\n",
        "    sensor_dat = sensor_dat.append(new_dat, ignore_index=True)\n",
        "    j = j + 1\n",
        "\n",
        "  if j == samples:\n",
        "    j = 0\n",
        "  \n",
        "  sensor_dat.reset_index().plot(xlim=(-1,10), ylim=(0,50), kind='scatter', x='index', y='Y', color='Blue', legend=False)\n",
        "  \n",
        "  plt.savefig(\"type1_\"+str(i+26)+\".png\")\n",
        "  files.download(\"type1_\"+str(i+26)+\".png\") \n",
        "  plt.clf()\n",
        " \n",
        "  sensor_dat = sensor_dat.iloc[0:0] # clears dataframe\n",
        "  new_dat = new_dat.iloc[0:0] # same as above\n",
        "  \n",
        "  i = i + 1\n",
        "\n"
      ],
      "execution_count": 0,
      "outputs": []
    },
    {
      "cell_type": "code",
      "metadata": {
        "id": "EmQfnKvFgmuX",
        "colab_type": "code",
        "colab": {}
      },
      "source": [
        "# generates type 2 data. \n",
        "\n",
        "while i < plot_num:\n",
        "  while j < samples:\n",
        "    new_dat = pd.DataFrame({float(random.randrange(150, 300))/10}, columns = ['Y'])\n",
        "    sensor_dat = sensor_dat.append(new_dat, ignore_index=True)\n",
        "    j = j + 1\n",
        "\n",
        "  if j == samples:\n",
        "    j = 0\n",
        "  \n",
        "  sensor_dat.reset_index().plot(xlim=(-1,10), ylim=(0,50), kind='scatter', x='index', y='Y', color='Blue', legend=False)\n",
        "  \n",
        "  plt.savefig(\"type2_\"+str(i+26)+\".png\")\n",
        "  files.download(\"type2_\"+str(i+26)+\".png\") \n",
        "  plt.clf()\n",
        " \n",
        "  sensor_dat = sensor_dat.iloc[0:0] # clears dataframe\n",
        "  new_dat = new_dat.iloc[0:0] # same as above\n",
        "  \n",
        "  i = i + 1"
      ],
      "execution_count": 0,
      "outputs": []
    },
    {
      "cell_type": "code",
      "metadata": {
        "id": "2bntoT-wgnIJ",
        "colab_type": "code",
        "colab": {}
      },
      "source": [
        "# generates type 3 data. \n",
        "\n",
        "while i < plot_num:\n",
        "  while j < samples:\n",
        "    new_dat = pd.DataFrame({float(random.randrange(100, 200))/10}, columns = ['Y'])\n",
        "    sensor_dat = sensor_dat.append(new_dat, ignore_index=True)\n",
        "    j = j + 1\n",
        "\n",
        "  if j == samples:\n",
        "    j = 0\n",
        "  \n",
        "  sensor_dat.reset_index().plot(xlim=(-1,10), ylim=(0,50), kind='scatter', x='index', y='Y', color='Blue', legend=False)\n",
        "  \n",
        "  plt.savefig(\"type3_\"+str(i+26)+\".png\")\n",
        "  files.download(\"type3_\"+str(i+26)+\".png\") \n",
        "  plt.clf()\n",
        " \n",
        "  sensor_dat = sensor_dat.iloc[0:0] # clears dataframe\n",
        "  new_dat = new_dat.iloc[0:0] # same as above\n",
        "  \n",
        "  i = i + 1"
      ],
      "execution_count": 0,
      "outputs": []
    }
  ]
}