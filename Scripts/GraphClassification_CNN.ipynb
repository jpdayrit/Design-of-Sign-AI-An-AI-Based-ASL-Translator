{
  "nbformat": 4,
  "nbformat_minor": 0,
  "metadata": {
    "colab": {
      "name": "GraphClassification_CNN",
      "provenance": [],
      "collapsed_sections": []
    },
    "kernelspec": {
      "name": "python3",
      "display_name": "Python 3"
    },
    "accelerator": "GPU"
  },
  "cells": [
    {
      "cell_type": "code",
      "metadata": {
        "id": "mT6KWN4hOJuB",
        "colab_type": "code",
        "outputId": "3e668c23-d728-42aa-e839-1f6147a9f3c2",
        "colab": {
          "base_uri": "https://localhost:8080/",
          "height": 138
        }
      },
      "source": [
        "import numpy as np\n",
        "import matplotlib.pyplot as plt\n",
        "import os\n",
        "import cv2\n",
        "from tqdm import tqdm\n",
        "\n",
        "DATADIR = \"/content/drive/My Drive/PseudoDataTrain\"\n",
        "\n",
        "CATEGORIES = [\"type_1\", \"type_2\", \"type_3\"]\n",
        "\n",
        "from google.colab import drive\n",
        "drive.mount('/content/drive')\n"
      ],
      "execution_count": 1,
      "outputs": [
        {
          "output_type": "stream",
          "text": [
            "Go to this URL in a browser: https://accounts.google.com/o/oauth2/auth?client_id=947318989803-6bn6qk8qdgf4n4g3pfee6491hc0brc4i.apps.googleusercontent.com&redirect_uri=urn%3Aietf%3Awg%3Aoauth%3A2.0%3Aoob&scope=email%20https%3A%2F%2Fwww.googleapis.com%2Fauth%2Fdocs.test%20https%3A%2F%2Fwww.googleapis.com%2Fauth%2Fdrive%20https%3A%2F%2Fwww.googleapis.com%2Fauth%2Fdrive.photos.readonly%20https%3A%2F%2Fwww.googleapis.com%2Fauth%2Fpeopleapi.readonly&response_type=code\n",
            "\n",
            "Enter your authorization code:\n",
            "··········\n",
            "Mounted at /content/drive\n"
          ],
          "name": "stdout"
        },
        {
          "output_type": "execute_result",
          "data": {
            "text/plain": [
              "\"\\nfor category in CATEGORIES:  # do dogs and cats\\n    path = os.path.join(DATADIR,category)  # create path to dogs and cats\\n    for img in os.listdir(path):  # iterate over each image per dogs and cats\\n        img_array = cv2.imread(os.path.join(path,img) ,cv2.IMREAD_GRAYSCALE)  # convert to array\\n        plt.imshow(img_array, cmap='gray')  # graph it\\n        plt.show()  # display!\\n\\n        IMG_SIZE = 450\\n\\n        new_array = cv2.resize(img_array, (IMG_SIZE, IMG_SIZE))\\n        plt.imshow(new_array, cmap='gray')\\n        plt.show()\\n\\n        break  # we just want one for now so break\\n    break  #...and one more!\\n\""
            ]
          },
          "metadata": {
            "tags": []
          },
          "execution_count": 1
        }
      ]
    },
    {
      "cell_type": "code",
      "metadata": {
        "id": "G02qicwxOMbY",
        "colab_type": "code",
        "outputId": "e4234c58-23f8-4185-cb65-a460f20a2428",
        "colab": {
          "base_uri": "https://localhost:8080/",
          "height": 34
        }
      },
      "source": [
        "training_data = []\n",
        "IMG_SIZE = 450\n",
        "\n",
        "def create_training_data():\n",
        "  for category in CATEGORIES:  \n",
        "    path = os.path.join(DATADIR,category)  \n",
        "    class_num = CATEGORIES.index(category)  # if 0, type 1 data; 1, type 2 data; 2, type 3 data. \n",
        "    for img in os.listdir(path):  \n",
        "        img_array = cv2.imread(os.path.join(path,img) ,cv2.IMREAD_GRAYSCALE)  # convert to array\n",
        "        new_array = cv2.resize(img_array, (IMG_SIZE, IMG_SIZE))\n",
        "        training_data.append([new_array, class_num])\n",
        "\n",
        "create_training_data()\n",
        "\n",
        "print(len(training_data))"
      ],
      "execution_count": 2,
      "outputs": [
        {
          "output_type": "stream",
          "text": [
            "600\n"
          ],
          "name": "stdout"
        }
      ]
    },
    {
      "cell_type": "code",
      "metadata": {
        "id": "3IqcbfXlOL4j",
        "colab_type": "code",
        "outputId": "681aeba6-f0c7-46e0-fe58-d0bf215c26a7",
        "colab": {
          "base_uri": "https://localhost:8080/",
          "height": 34
        }
      },
      "source": [
        "DATADIR_VAL = \"/content/drive/My Drive/PseudoDataValid\"\n",
        "\n",
        "validation_data = []\n",
        "\n",
        "def create_validation_data():\n",
        "  for category in CATEGORIES:  \n",
        "    path = os.path.join(DATADIR_VAL,category)  \n",
        "    class_num = CATEGORIES.index(category)  # if 0, type 1 data; 1, type 2 data; 3, type 3 data. \n",
        "    for img in os.listdir(path):  \n",
        "        img_array = cv2.imread(os.path.join(path,img) ,cv2.IMREAD_GRAYSCALE)  # convert to array\n",
        "        new_array = cv2.resize(img_array, (IMG_SIZE, IMG_SIZE))\n",
        "        validation_data.append([new_array, class_num])\n",
        "\n",
        "create_validation_data()\n",
        "\n",
        "print(len(validation_data))"
      ],
      "execution_count": 3,
      "outputs": [
        {
          "output_type": "stream",
          "text": [
            "375\n"
          ],
          "name": "stdout"
        }
      ]
    },
    {
      "cell_type": "code",
      "metadata": {
        "id": "tb8yJwK--1h8",
        "colab_type": "code",
        "colab": {}
      },
      "source": [
        "import random \n",
        "\n",
        "random.shuffle(training_data)\n",
        "random.shuffle(validation_data)\n"
      ],
      "execution_count": 0,
      "outputs": []
    },
    {
      "cell_type": "code",
      "metadata": {
        "id": "A4N1U4RZtHuX",
        "colab_type": "code",
        "colab": {}
      },
      "source": [
        "X = []\n",
        "y = []\n",
        "\n",
        "X_val = []\n",
        "y_val = []\n"
      ],
      "execution_count": 0,
      "outputs": []
    },
    {
      "cell_type": "code",
      "metadata": {
        "id": "sz2vJf9TkwBb",
        "colab_type": "code",
        "colab": {}
      },
      "source": [
        "for features, label in training_data:\n",
        "  X.append(features)\n",
        "  y.append(label)\n",
        "\n",
        "X = np.array(X).reshape(-1, IMG_SIZE, IMG_SIZE, 1)\n",
        "\n",
        "for features, label in validation_data:\n",
        "  X_val.append(features)\n",
        "  y_val.append(label)\n",
        "\n",
        "X_val = np.array(X_val).reshape(-1, IMG_SIZE, IMG_SIZE, 1)\n",
        "\n",
        "\n"
      ],
      "execution_count": 0,
      "outputs": []
    },
    {
      "cell_type": "code",
      "metadata": {
        "id": "3VFCKTSJkwIy",
        "colab_type": "code",
        "colab": {}
      },
      "source": [
        "import pickle\n",
        "\n",
        "pickle_out = open('X.pickle', 'wb')\n",
        "pickle.dump(X, pickle_out)  # dumps X into pickle_out\n",
        "pickle_out.close()\n",
        "\n",
        "pickle_out = open('y.pickle', 'wb')\n",
        "pickle.dump(y, pickle_out)  # dumps y into pickle_out\n",
        "pickle_out.close()\n",
        "\n",
        "pickle_out = open('X_val.pickle', 'wb')\n",
        "pickle.dump(X_val, pickle_out)  # dumps X_val into pickle_out\n",
        "pickle_out.close()\n",
        "\n",
        "pickle_out = open('y_val.pickle', 'wb')\n",
        "pickle.dump(y_val, pickle_out)  # dumps y_val into pickle_out\n",
        "pickle_out.close()\n"
      ],
      "execution_count": 0,
      "outputs": []
    },
    {
      "cell_type": "code",
      "metadata": {
        "id": "Dbt-hzDkqQoM",
        "colab_type": "code",
        "colab": {}
      },
      "source": [
        "from tensorflow.keras import layers, models\n",
        "import pickle\n",
        "\n",
        "train_images = pickle.load(open('X.pickle', 'rb'))  # the data\n",
        "train_labels = pickle.load(open('y.pickle', 'rb'))  # labels for each data\n",
        "\n",
        "test_images = pickle.load(open('X_val.pickle', 'rb'))  # the data\n",
        "test_labels = pickle.load(open('y_val.pickle', 'rb'))  # labels for each data\n",
        "\n",
        "train_images, test_images = train_images / 255.0, test_images / 255.0\n"
      ],
      "execution_count": 0,
      "outputs": []
    },
    {
      "cell_type": "code",
      "metadata": {
        "id": "YJs0MTyG-Mlo",
        "colab_type": "code",
        "outputId": "ef473e84-6f6e-4453-f982-9008c0bb6053",
        "colab": {
          "base_uri": "https://localhost:8080/",
          "height": 420
        }
      },
      "source": [
        "model = models.Sequential()\n",
        "model.add(layers.Conv2D(32, (3, 3), activation='relu', input_shape=(IMG_SIZE, IMG_SIZE, 1)))\n",
        "model.add(layers.MaxPooling2D((2, 2)))\n",
        "model.add(layers.Conv2D(64, (3, 3), activation='relu'))\n",
        "model.add(layers.MaxPooling2D((2, 2)))\n",
        "model.add(layers.Conv2D(64, (3, 3), activation='relu'))\n",
        "\n",
        "model.add(layers.Flatten())\n",
        "model.add(layers.Dense(64, activation='relu'))\n",
        "model.add(layers.Dense(3, activation='softmax'))\n",
        "\n",
        "model.summary()\n"
      ],
      "execution_count": 41,
      "outputs": [
        {
          "output_type": "stream",
          "text": [
            "Model: \"sequential_3\"\n",
            "_________________________________________________________________\n",
            "Layer (type)                 Output Shape              Param #   \n",
            "=================================================================\n",
            "conv2d_9 (Conv2D)            (None, 448, 448, 32)      320       \n",
            "_________________________________________________________________\n",
            "max_pooling2d_6 (MaxPooling2 (None, 224, 224, 32)      0         \n",
            "_________________________________________________________________\n",
            "conv2d_10 (Conv2D)           (None, 222, 222, 64)      18496     \n",
            "_________________________________________________________________\n",
            "max_pooling2d_7 (MaxPooling2 (None, 111, 111, 64)      0         \n",
            "_________________________________________________________________\n",
            "conv2d_11 (Conv2D)           (None, 109, 109, 64)      36928     \n",
            "_________________________________________________________________\n",
            "flatten_3 (Flatten)          (None, 760384)            0         \n",
            "_________________________________________________________________\n",
            "dense_6 (Dense)              (None, 64)                48664640  \n",
            "_________________________________________________________________\n",
            "dense_7 (Dense)              (None, 3)                 195       \n",
            "=================================================================\n",
            "Total params: 48,720,579\n",
            "Trainable params: 48,720,579\n",
            "Non-trainable params: 0\n",
            "_________________________________________________________________\n"
          ],
          "name": "stdout"
        }
      ]
    },
    {
      "cell_type": "code",
      "metadata": {
        "id": "F_BsOpOTr5uL",
        "colab_type": "code",
        "outputId": "efd088aa-7aaf-41e6-fc16-e45e8d960309",
        "colab": {
          "base_uri": "https://localhost:8080/",
          "height": 202
        }
      },
      "source": [
        "model.compile(optimizer='adam',\n",
        "              loss='sparse_categorical_crossentropy',\n",
        "              metrics=['accuracy'])\n",
        "\n",
        "history = model.fit(train_images, train_labels, epochs=5, \n",
        "                    validation_data=(test_images, test_labels))"
      ],
      "execution_count": 42,
      "outputs": [
        {
          "output_type": "stream",
          "text": [
            "Train on 600 samples, validate on 375 samples\n",
            "Epoch 1/5\n",
            "600/600 [==============================] - 9s 15ms/sample - loss: 3.9889 - acc: 0.3317 - val_loss: 1.0939 - val_acc: 0.3333\n",
            "Epoch 2/5\n",
            "600/600 [==============================] - 9s 15ms/sample - loss: 1.0965 - acc: 0.3717 - val_loss: 1.0305 - val_acc: 0.5600\n",
            "Epoch 3/5\n",
            "600/600 [==============================] - 9s 15ms/sample - loss: 0.8768 - acc: 0.7650 - val_loss: 0.1903 - val_acc: 1.0000\n",
            "Epoch 4/5\n",
            "600/600 [==============================] - 9s 15ms/sample - loss: 0.2175 - acc: 0.9433 - val_loss: 0.0171 - val_acc: 0.9947\n",
            "Epoch 5/5\n",
            "600/600 [==============================] - 9s 15ms/sample - loss: 0.0655 - acc: 0.9833 - val_loss: 0.0067 - val_acc: 1.0000\n"
          ],
          "name": "stdout"
        }
      ]
    },
    {
      "cell_type": "code",
      "metadata": {
        "id": "scvqR08fut6Q",
        "colab_type": "code",
        "outputId": "55ce564f-83b3-474c-9d79-3af32ec314bd",
        "colab": {
          "base_uri": "https://localhost:8080/",
          "height": 34
        }
      },
      "source": [
        "DATADIR_EVAL = \"/content/drive/My Drive/PseudoDataReal\"\n",
        "\n",
        "evaluation_data = []\n",
        "\n",
        "def create_evaluation_data():\n",
        "  for category in CATEGORIES:  \n",
        "    path = os.path.join(DATADIR_EVAL,category)  \n",
        "    class_num = CATEGORIES.index(category)  # if 0, type 1 data; 1, type 2 data; 2, type 3 data. \n",
        "    for img in os.listdir(path):  \n",
        "        img_array = cv2.imread(os.path.join(path,img) ,cv2.IMREAD_GRAYSCALE)  # convert to array\n",
        "        new_array = cv2.resize(img_array, (IMG_SIZE, IMG_SIZE))\n",
        "        evaluation_data.append([new_array, class_num])\n",
        "\n",
        "create_evaluation_data()\n",
        "\n",
        "print(len(evaluation_data))\n"
      ],
      "execution_count": 11,
      "outputs": [
        {
          "output_type": "stream",
          "text": [
            "75\n"
          ],
          "name": "stdout"
        }
      ]
    },
    {
      "cell_type": "code",
      "metadata": {
        "id": "cX5kKn8t3r-s",
        "colab_type": "code",
        "colab": {}
      },
      "source": [
        "X_eval = []\n",
        "y_eval = []"
      ],
      "execution_count": 0,
      "outputs": []
    },
    {
      "cell_type": "code",
      "metadata": {
        "id": "Mp9VSfCf3vnu",
        "colab_type": "code",
        "colab": {}
      },
      "source": [
        "random.shuffle(evaluation_data)\n",
        "\n",
        "for features, label in evaluation_data:\n",
        "  X_eval.append(features)\n",
        "  y_eval.append(label)\n",
        "\n",
        "X_eval = np.array(X_eval).reshape(-1, IMG_SIZE, IMG_SIZE, 1)\n",
        "X_eval = X_eval/255.0\n"
      ],
      "execution_count": 0,
      "outputs": []
    },
    {
      "cell_type": "code",
      "metadata": {
        "id": "DLLH49et5Dmp",
        "colab_type": "code",
        "outputId": "70f70698-50e3-40fa-9ebd-916d2c7f334d",
        "colab": {
          "base_uri": "https://localhost:8080/",
          "height": 50
        }
      },
      "source": [
        "model.evaluate(X_eval,  y_eval, verbose=1)"
      ],
      "execution_count": 45,
      "outputs": [
        {
          "output_type": "stream",
          "text": [
            "75/75 [==============================] - 0s 5ms/sample - loss: 0.0068 - acc: 1.0000\n"
          ],
          "name": "stdout"
        },
        {
          "output_type": "execute_result",
          "data": {
            "text/plain": [
              "[0.006783944573253393, 1.0]"
            ]
          },
          "metadata": {
            "tags": []
          },
          "execution_count": 45
        }
      ]
    }
  ]
}